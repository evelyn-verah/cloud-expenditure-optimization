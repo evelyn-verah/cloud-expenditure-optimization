{
 "cells": [
  {
   "cell_type": "markdown",
   "id": "621009c3",
   "metadata": {},
   "source": [
    "# Cloud Expenditure Optimization – Notebook Suite\n",
    "This set of notebooks follows the architecture: ETL → Database → ML (Failure, Cost) → Dashboards.\n",
    "\n",
    "**Data input**: `../data/sample_reports_100.csv` (or `../data/sample_reports.csv`)\n",
    "\n",
    "**Outputs**: cleaned data and artifacts in `../results/`."
   ]
  },
  {
   "cell_type": "markdown",
   "id": "c088b86a",
   "metadata": {},
   "source": [
    "## 04 – Workload Clustering (KMeans)\n",
    "Cluster workloads by resource usage to spot high-cost patterns."
   ]
  },
  {
   "cell_type": "code",
   "execution_count": null,
   "id": "d48995c8",
   "metadata": {},
   "outputs": [],
   "source": [
    "import pandas as pd\n",
    "from pathlib import Path\n",
    "from sklearn.preprocessing import StandardScaler\n",
    "from sklearn.cluster import KMeans\n",
    "\n",
    "possible_paths = [\n",
    "    '../data/cleaned_reports.csv',\n",
    "    '../data/sample_reports_100.csv',\n",
    "    '/mnt/data/cleaned_reports.csv',\n",
    "    '/mnt/data/sample_reports_100.csv'\n",
    "]\n",
    "data_path = next((p for p in possible_paths if Path(p).exists()), None)\n",
    "assert data_path is not None, f'Could not find dataset. Checked: {possible_paths}'\n",
    "print('Using data:', data_path)\n",
    "\n",
    "df = pd.read_csv(data_path, parse_dates=['timestamp'])\n",
    "X = df[['response_time_ms', 'cpu_usage', 'memory_usage', 'cost_usd']].copy()\n",
    "\n",
    "scaler = StandardScaler()\n",
    "Xs = scaler.fit_transform(X)\n",
    "\n",
    "# Elbow method (quick)\n",
    "inertias = []\n",
    "for k in range(2, 7):\n",
    "    km = KMeans(n_clusters=k, n_init=10, random_state=42)\n",
    "    km.fit(Xs)\n",
    "    inertias.append(km.inertia_)\n",
    "\n",
    "inertias\n"
   ]
  },
  {
   "cell_type": "code",
   "execution_count": null,
   "id": "28da1bce",
   "metadata": {},
   "outputs": [],
   "source": [
    "# Plot elbow\n",
    "import matplotlib.pyplot as plt\n",
    "ks = list(range(2,7))\n",
    "plt.figure()\n",
    "plt.plot(ks, inertias, marker='o')\n",
    "plt.title('Elbow Plot')\n",
    "plt.xlabel('k')\n",
    "plt.ylabel('Inertia')\n",
    "plt.tight_layout()\n",
    "plt.show()\n"
   ]
  },
  {
   "cell_type": "code",
   "execution_count": null,
   "id": "0bc1ad50",
   "metadata": {},
   "outputs": [],
   "source": [
    "# Fit final model with k=3 (example) and attach labels\n",
    "final_k = 3\n",
    "km = KMeans(n_clusters=final_k, n_init=10, random_state=42)\n",
    "labels = km.fit_predict(Xs)\n",
    "df['cluster'] = labels\n",
    "\n",
    "# Cluster profiling\n",
    "profile = df.groupby('cluster')[['response_time_ms','cpu_usage','memory_usage','cost_usd']].mean().round(2)\n",
    "print(profile)\n",
    "\n",
    "# Save labeled data for dashboards\n",
    "from pathlib import Path\n",
    "out_path = Path('../results/workload_clusters.csv')\n",
    "df.to_csv(out_path, index=False)\n",
    "print('Saved clustered data to', out_path)\n"
   ]
  }
 ],
 "metadata": {},
 "nbformat": 4,
 "nbformat_minor": 5
}
