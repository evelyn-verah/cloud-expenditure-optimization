{
 "cells": [
  {
   "cell_type": "markdown",
   "id": "90c661e2",
   "metadata": {},
   "source": [
    "# Cloud Expenditure Optimization – Notebook Suite\n",
    "This set of notebooks follows the architecture: ETL → Database → ML (Failure, Cost) → Dashboards.\n",
    "\n",
    "**Data input**: `../data/sample_reports_100.csv` (or `../data/sample_reports.csv`)\n",
    "\n",
    "**Outputs**: cleaned data and artifacts in `../results/`."
   ]
  },
  {
   "cell_type": "markdown",
   "id": "76898115",
   "metadata": {},
   "source": [
    "## 03 – Cost Forecasting (ARIMA baseline)\n",
    "Aggregate costs over time and forecast next periods."
   ]
  },
  {
   "cell_type": "code",
   "execution_count": null,
   "id": "f8f877bf",
   "metadata": {},
   "outputs": [],
   "source": [
    "import pandas as pd\n",
    "from pathlib import Path\n",
    "\n",
    "possible_paths = [\n",
    "    '../data/cleaned_reports.csv',\n",
    "    '../data/sample_reports_100.csv',\n",
    "    '/mnt/data/cleaned_reports.csv',\n",
    "    '/mnt/data/sample_reports_100.csv'\n",
    "]\n",
    "data_path = next((p for p in possible_paths if Path(p).exists()), None)\n",
    "assert data_path is not None, f'Could not find dataset. Checked: {possible_paths}'\n",
    "print('Using data:', data_path)\n",
    "\n",
    "df = pd.read_csv(data_path, parse_dates=['timestamp'])\n",
    "df = df.sort_values('timestamp')\n",
    "ts = df.set_index('timestamp')['cost_usd'].resample('15min').sum().fillna(0.0)\n",
    "\n",
    "ts.head()\n"
   ]
  },
  {
   "cell_type": "code",
   "execution_count": null,
   "id": "20f62707",
   "metadata": {},
   "outputs": [],
   "source": [
    "# Plot the series (single chart, no custom colors)\n",
    "import matplotlib.pyplot as plt\n",
    "plt.figure()\n",
    "ts.plot()\n",
    "plt.title('Resampled Cloud Cost (15-min)')\n",
    "plt.tight_layout()\n",
    "plt.show()\n"
   ]
  },
  {
   "cell_type": "code",
   "execution_count": null,
   "id": "bae2ec90",
   "metadata": {},
   "outputs": [],
   "source": [
    "# Try ARIMA; if statsmodels not installed, use naive rolling mean forecast\n",
    "forecast_df = None\n",
    "horizon = 8  # forecast 8 intervals\n",
    "\n",
    "try:\n",
    "    from statsmodels.tsa.arima.model import ARIMA\n",
    "    model = ARIMA(ts, order=(1,1,1))\n",
    "    model_fit = model.fit()\n",
    "    fc = model_fit.forecast(steps=horizon)\n",
    "    forecast_df = fc.to_frame(name='forecast_cost_usd')\n",
    "except Exception as e:\n",
    "    print('ARIMA unavailable, falling back to rolling mean:', e)\n",
    "    rm = ts.rolling(window=5, min_periods=1).mean()\n",
    "    last_val = rm.iloc[-1]\n",
    "    forecast_df = pd.DataFrame({'forecast_cost_usd': [last_val]*horizon})\n",
    "\n",
    "forecast_df.index = pd.date_range(ts.index[-1] + pd.Timedelta(minutes=15), periods=horizon, freq='15min')\n",
    "forecast_df.head()\n"
   ]
  },
  {
   "cell_type": "code",
   "execution_count": null,
   "id": "b2b8a7d8",
   "metadata": {},
   "outputs": [],
   "source": [
    "# Plot historical + forecast\n",
    "import matplotlib.pyplot as plt\n",
    "\n",
    "plt.figure()\n",
    "ts.plot(label='history')\n",
    "forecast_df['forecast_cost_usd'].plot(label='forecast')\n",
    "plt.title('Cloud Cost Forecast (baseline)')\n",
    "plt.legend()\n",
    "plt.tight_layout()\n",
    "plt.show()\n",
    "\n",
    "# Save to results for dashboard use\n",
    "out_path = Path('../results/cost_forecast.csv')\n",
    "forecast_df.to_csv(out_path)\n",
    "print('Saved forecast to', out_path)\n"
   ]
  }
 ],
 "metadata": {},
 "nbformat": 4,
 "nbformat_minor": 5
}
